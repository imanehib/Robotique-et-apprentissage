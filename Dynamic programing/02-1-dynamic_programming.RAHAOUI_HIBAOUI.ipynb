{
 "cells": [
  {
   "cell_type": "markdown",
   "id": "f794410c",
   "metadata": {
    "lines_to_next_cell": 2
   },
   "source": [
    " Copyright © Sorbonne University.\n",
    "\n",
    " This source code is licensed under the MIT license found in the LICENSE file\n",
    " in the root directory of this source tree."
   ]
  },
  {
   "cell_type": "markdown",
   "id": "f587e3bb-48c0-4e5d-a152-2683573a3f6b",
   "metadata": {},
   "source": [
    "# Ines RAHAOUI 21105329\n",
    "# Imane HIBAOUI 21411393"
   ]
  },
  {
   "cell_type": "markdown",
   "id": "76f2b4eb",
   "metadata": {
    "lines_to_next_cell": 2
   },
   "source": [
    "# Outlook\n",
    "\n",
    "In this notebook, we study the **value iteration** and **policy\n",
    "iteration** algorithms in a maze environment."
   ]
  },
  {
   "cell_type": "markdown",
   "id": "0a5d9ebe",
   "metadata": {},
   "source": [
    "# Installation"
   ]
  },
  {
   "cell_type": "code",
   "execution_count": 1,
   "id": "ef586818-dbd0-4723-af9d-fc1665017a29",
   "metadata": {},
   "outputs": [
    {
     "name": "stdout",
     "output_type": "stream",
     "text": [
      "Matplotlib backend: module://matplotlib_inline.backend_inline\n",
      "Tout est bien installé et fonctionne correctement ! 🚀\n"
     ]
    }
   ],
   "source": [
    "import gymnasium as gym\n",
    "import Box2D\n",
    "import mazemdp\n",
    "\n",
    "print(\"Tout est bien installé et fonctionne correctement ! 🚀\")\n"
   ]
  },
  {
   "cell_type": "code",
   "execution_count": 2,
   "id": "b4cad17a",
   "metadata": {
    "lines_to_next_cell": 0
   },
   "outputs": [
    {
     "name": "stdout",
     "output_type": "stream",
     "text": [
      "moviepy fonctionne!\n",
      "Requirement already satisfied: swig in c:\\users\\amine\\miniconda3\\envs\\mapsi\\lib\\site-packages (4.3.0)\n",
      "Requirement already satisfied: box2d-py in c:\\users\\amine\\miniconda3\\envs\\mapsi\\lib\\site-packages (2.3.5)\n",
      "Requirement already satisfied: bbrl_utils in c:\\users\\amine\\miniconda3\\envs\\mapsi\\lib\\site-packages (0.10.3)\n",
      "Requirement already satisfied: easypip in c:\\users\\amine\\appdata\\roaming\\python\\python312\\site-packages (from bbrl_utils) (1.3.5)\n",
      "Requirement already satisfied: bbrl>=0.3.1 in c:\\users\\amine\\miniconda3\\envs\\mapsi\\lib\\site-packages (from bbrl_utils) (0.3.3)\n",
      "Requirement already satisfied: bbrl-gymnasium>=0.3.5 in c:\\users\\amine\\miniconda3\\envs\\mapsi\\lib\\site-packages (from bbrl_utils) (0.3.7)\n",
      "Requirement already satisfied: tensorboard in c:\\users\\amine\\miniconda3\\envs\\mapsi\\lib\\site-packages (from bbrl_utils) (2.18.0)\n",
      "Requirement already satisfied: pygame in c:\\users\\amine\\miniconda3\\envs\\mapsi\\lib\\site-packages (from bbrl_utils) (2.6.1)\n",
      "Requirement already satisfied: torch>=1.9.0 in c:\\users\\amine\\miniconda3\\envs\\mapsi\\lib\\site-packages (from bbrl>=0.3.1->bbrl_utils) (2.6.0)\n",
      "Requirement already satisfied: torchvision in c:\\users\\amine\\miniconda3\\envs\\mapsi\\lib\\site-packages (from bbrl>=0.3.1->bbrl_utils) (0.21.0)\n",
      "Requirement already satisfied: tqdm in c:\\users\\amine\\miniconda3\\envs\\mapsi\\lib\\site-packages (from bbrl>=0.3.1->bbrl_utils) (4.67.1)\n",
      "Requirement already satisfied: hydra-core in c:\\users\\amine\\miniconda3\\envs\\mapsi\\lib\\site-packages (from bbrl>=0.3.1->bbrl_utils) (1.3.2)\n",
      "Requirement already satisfied: numpy in c:\\users\\amine\\miniconda3\\envs\\mapsi\\lib\\site-packages (from bbrl>=0.3.1->bbrl_utils) (1.26.4)\n",
      "Requirement already satisfied: pandas in c:\\users\\amine\\miniconda3\\envs\\mapsi\\lib\\site-packages (from bbrl>=0.3.1->bbrl_utils) (2.2.3)\n",
      "Requirement already satisfied: opencv-python in c:\\users\\amine\\miniconda3\\envs\\mapsi\\lib\\site-packages (from bbrl>=0.3.1->bbrl_utils) (4.11.0.86)\n",
      "Requirement already satisfied: omegaconf in c:\\users\\amine\\miniconda3\\envs\\mapsi\\lib\\site-packages (from bbrl>=0.3.1->bbrl_utils) (2.3.0)\n",
      "Requirement already satisfied: matplotlib in c:\\users\\amine\\miniconda3\\envs\\mapsi\\lib\\site-packages (from bbrl>=0.3.1->bbrl_utils) (3.9.2)\n",
      "Requirement already satisfied: seaborn in c:\\users\\amine\\miniconda3\\envs\\mapsi\\lib\\site-packages (from bbrl>=0.3.1->bbrl_utils) (0.13.2)\n",
      "Requirement already satisfied: scipy in c:\\users\\amine\\miniconda3\\envs\\mapsi\\lib\\site-packages (from bbrl>=0.3.1->bbrl_utils) (1.13.1)\n",
      "Requirement already satisfied: bootstrapped in c:\\users\\amine\\miniconda3\\envs\\mapsi\\lib\\site-packages (from bbrl>=0.3.1->bbrl_utils) (0.0.2)\n",
      "Requirement already satisfied: gymnasium in c:\\users\\amine\\miniconda3\\envs\\mapsi\\lib\\site-packages (from bbrl>=0.3.1->bbrl_utils) (0.29.1)\n",
      "Requirement already satisfied: moviepy in c:\\users\\amine\\miniconda3\\envs\\mapsi\\lib\\site-packages (from bbrl>=0.3.1->bbrl_utils) (1.0.3)\n",
      "Requirement already satisfied: mazemdp>=1.2.0 in c:\\users\\amine\\miniconda3\\envs\\mapsi\\lib\\site-packages (from bbrl-gymnasium>=0.3.5->bbrl_utils) (1.2.7)\n",
      "Requirement already satisfied: packaging in c:\\users\\amine\\miniconda3\\envs\\mapsi\\lib\\site-packages (from easypip->bbrl_utils) (24.1)\n",
      "Requirement already satisfied: absl-py>=0.4 in c:\\users\\amine\\miniconda3\\envs\\mapsi\\lib\\site-packages (from tensorboard->bbrl_utils) (2.1.0)\n",
      "Requirement already satisfied: grpcio>=1.48.2 in c:\\users\\amine\\miniconda3\\envs\\mapsi\\lib\\site-packages (from tensorboard->bbrl_utils) (1.70.0)\n",
      "Requirement already satisfied: markdown>=2.6.8 in c:\\users\\amine\\miniconda3\\envs\\mapsi\\lib\\site-packages (from tensorboard->bbrl_utils) (3.7)\n",
      "Requirement already satisfied: protobuf!=4.24.0,>=3.19.6 in c:\\users\\amine\\miniconda3\\envs\\mapsi\\lib\\site-packages (from tensorboard->bbrl_utils) (5.29.3)\n",
      "Requirement already satisfied: setuptools>=41.0.0 in c:\\users\\amine\\miniconda3\\envs\\mapsi\\lib\\site-packages (from tensorboard->bbrl_utils) (75.1.0)\n",
      "Requirement already satisfied: six>1.9 in c:\\users\\amine\\miniconda3\\envs\\mapsi\\lib\\site-packages (from tensorboard->bbrl_utils) (1.16.0)\n",
      "Requirement already satisfied: tensorboard-data-server<0.8.0,>=0.7.0 in c:\\users\\amine\\miniconda3\\envs\\mapsi\\lib\\site-packages (from tensorboard->bbrl_utils) (0.7.2)\n",
      "Requirement already satisfied: werkzeug>=1.0.1 in c:\\users\\amine\\miniconda3\\envs\\mapsi\\lib\\site-packages (from tensorboard->bbrl_utils) (3.1.3)\n",
      "Requirement already satisfied: cloudpickle>=1.2.0 in c:\\users\\amine\\miniconda3\\envs\\mapsi\\lib\\site-packages (from gymnasium->bbrl>=0.3.1->bbrl_utils) (3.1.1)\n",
      "Requirement already satisfied: typing-extensions>=4.3.0 in c:\\users\\amine\\miniconda3\\envs\\mapsi\\lib\\site-packages (from gymnasium->bbrl>=0.3.1->bbrl_utils) (4.11.0)\n",
      "Requirement already satisfied: farama-notifications>=0.0.1 in c:\\users\\amine\\miniconda3\\envs\\mapsi\\lib\\site-packages (from gymnasium->bbrl>=0.3.1->bbrl_utils) (0.0.4)\n",
      "Requirement already satisfied: ipyreact in c:\\users\\amine\\miniconda3\\envs\\mapsi\\lib\\site-packages (from mazemdp>=1.2.0->bbrl-gymnasium>=0.3.5->bbrl_utils) (0.5.0)\n",
      "Requirement already satisfied: filelock in c:\\users\\amine\\miniconda3\\envs\\mapsi\\lib\\site-packages (from torch>=1.9.0->bbrl>=0.3.1->bbrl_utils) (3.17.0)\n",
      "Requirement already satisfied: networkx in c:\\users\\amine\\miniconda3\\envs\\mapsi\\lib\\site-packages (from torch>=1.9.0->bbrl>=0.3.1->bbrl_utils) (3.4.2)\n",
      "Requirement already satisfied: jinja2 in c:\\users\\amine\\miniconda3\\envs\\mapsi\\lib\\site-packages (from torch>=1.9.0->bbrl>=0.3.1->bbrl_utils) (3.1.4)\n",
      "Requirement already satisfied: fsspec in c:\\users\\amine\\miniconda3\\envs\\mapsi\\lib\\site-packages (from torch>=1.9.0->bbrl>=0.3.1->bbrl_utils) (2024.12.0)\n",
      "Requirement already satisfied: sympy==1.13.1 in c:\\users\\amine\\miniconda3\\envs\\mapsi\\lib\\site-packages (from torch>=1.9.0->bbrl>=0.3.1->bbrl_utils) (1.13.1)\n",
      "Requirement already satisfied: mpmath<1.4,>=1.1.0 in c:\\users\\amine\\miniconda3\\envs\\mapsi\\lib\\site-packages (from sympy==1.13.1->torch>=1.9.0->bbrl>=0.3.1->bbrl_utils) (1.3.0)\n",
      "Requirement already satisfied: MarkupSafe>=2.1.1 in c:\\users\\amine\\miniconda3\\envs\\mapsi\\lib\\site-packages (from werkzeug>=1.0.1->tensorboard->bbrl_utils) (2.1.3)\n",
      "Requirement already satisfied: contourpy>=1.0.1 in c:\\users\\amine\\miniconda3\\envs\\mapsi\\lib\\site-packages (from matplotlib->bbrl>=0.3.1->bbrl_utils) (1.2.0)\n",
      "Requirement already satisfied: cycler>=0.10 in c:\\users\\amine\\miniconda3\\envs\\mapsi\\lib\\site-packages (from matplotlib->bbrl>=0.3.1->bbrl_utils) (0.11.0)\n",
      "Requirement already satisfied: fonttools>=4.22.0 in c:\\users\\amine\\miniconda3\\envs\\mapsi\\lib\\site-packages (from matplotlib->bbrl>=0.3.1->bbrl_utils) (4.51.0)\n",
      "Requirement already satisfied: kiwisolver>=1.3.1 in c:\\users\\amine\\miniconda3\\envs\\mapsi\\lib\\site-packages (from matplotlib->bbrl>=0.3.1->bbrl_utils) (1.4.4)\n",
      "Requirement already satisfied: pillow>=8 in c:\\users\\amine\\miniconda3\\envs\\mapsi\\lib\\site-packages (from matplotlib->bbrl>=0.3.1->bbrl_utils) (10.4.0)\n",
      "Requirement already satisfied: pyparsing>=2.3.1 in c:\\users\\amine\\miniconda3\\envs\\mapsi\\lib\\site-packages (from matplotlib->bbrl>=0.3.1->bbrl_utils) (3.1.2)\n",
      "Requirement already satisfied: python-dateutil>=2.7 in c:\\users\\amine\\miniconda3\\envs\\mapsi\\lib\\site-packages (from matplotlib->bbrl>=0.3.1->bbrl_utils) (2.9.0.post0)\n",
      "Requirement already satisfied: pytz>=2020.1 in c:\\users\\amine\\miniconda3\\envs\\mapsi\\lib\\site-packages (from pandas->bbrl>=0.3.1->bbrl_utils) (2024.1)\n",
      "Requirement already satisfied: tzdata>=2022.7 in c:\\users\\amine\\miniconda3\\envs\\mapsi\\lib\\site-packages (from pandas->bbrl>=0.3.1->bbrl_utils) (2023.3)\n",
      "Requirement already satisfied: box2d-py==2.3.5 in c:\\users\\amine\\miniconda3\\envs\\mapsi\\lib\\site-packages (from gymnasium[box2d]->bbrl-gymnasium>=0.3.5->bbrl_utils) (2.3.5)\n",
      "Requirement already satisfied: swig==4.* in c:\\users\\amine\\miniconda3\\envs\\mapsi\\lib\\site-packages (from gymnasium[box2d]->bbrl-gymnasium>=0.3.5->bbrl_utils) (4.3.0)\n",
      "Requirement already satisfied: antlr4-python3-runtime==4.9.* in c:\\users\\amine\\miniconda3\\envs\\mapsi\\lib\\site-packages (from hydra-core->bbrl>=0.3.1->bbrl_utils) (4.9.3)\n",
      "Requirement already satisfied: PyYAML>=5.1.0 in c:\\users\\amine\\miniconda3\\envs\\mapsi\\lib\\site-packages (from omegaconf->bbrl>=0.3.1->bbrl_utils) (6.0.1)\n",
      "Requirement already satisfied: decorator<5.0,>=4.0.2 in c:\\users\\amine\\miniconda3\\envs\\mapsi\\lib\\site-packages (from moviepy->bbrl>=0.3.1->bbrl_utils) (4.4.2)\n",
      "Requirement already satisfied: requests<3.0,>=2.8.1 in c:\\users\\amine\\miniconda3\\envs\\mapsi\\lib\\site-packages (from moviepy->bbrl>=0.3.1->bbrl_utils) (2.32.3)\n",
      "Requirement already satisfied: proglog<=1.0.0 in c:\\users\\amine\\miniconda3\\envs\\mapsi\\lib\\site-packages (from moviepy->bbrl>=0.3.1->bbrl_utils) (0.1.10)\n",
      "Requirement already satisfied: imageio<3.0,>=2.5 in c:\\users\\amine\\miniconda3\\envs\\mapsi\\lib\\site-packages (from moviepy->bbrl>=0.3.1->bbrl_utils) (2.37.0)\n",
      "Requirement already satisfied: imageio-ffmpeg>=0.2.0 in c:\\users\\amine\\miniconda3\\envs\\mapsi\\lib\\site-packages (from moviepy->bbrl>=0.3.1->bbrl_utils) (0.6.0)\n",
      "Requirement already satisfied: colorama in c:\\users\\amine\\miniconda3\\envs\\mapsi\\lib\\site-packages (from tqdm->bbrl>=0.3.1->bbrl_utils) (0.4.6)\n",
      "Requirement already satisfied: charset-normalizer<4,>=2 in c:\\users\\amine\\miniconda3\\envs\\mapsi\\lib\\site-packages (from requests<3.0,>=2.8.1->moviepy->bbrl>=0.3.1->bbrl_utils) (3.3.2)\n",
      "Requirement already satisfied: idna<4,>=2.5 in c:\\users\\amine\\miniconda3\\envs\\mapsi\\lib\\site-packages (from requests<3.0,>=2.8.1->moviepy->bbrl>=0.3.1->bbrl_utils) (3.7)\n",
      "Requirement already satisfied: urllib3<3,>=1.21.1 in c:\\users\\amine\\miniconda3\\envs\\mapsi\\lib\\site-packages (from requests<3.0,>=2.8.1->moviepy->bbrl>=0.3.1->bbrl_utils) (2.2.2)\n",
      "Requirement already satisfied: certifi>=2017.4.17 in c:\\users\\amine\\miniconda3\\envs\\mapsi\\lib\\site-packages (from requests<3.0,>=2.8.1->moviepy->bbrl>=0.3.1->bbrl_utils) (2024.8.30)\n",
      "Requirement already satisfied: anywidget>=0.2.0 in c:\\users\\amine\\miniconda3\\envs\\mapsi\\lib\\site-packages (from ipyreact->mazemdp>=1.2.0->bbrl-gymnasium>=0.3.5->bbrl_utils) (0.9.13)\n",
      "Requirement already satisfied: ipywidgets>=7.0.0 in c:\\users\\amine\\miniconda3\\envs\\mapsi\\lib\\site-packages (from ipyreact->mazemdp>=1.2.0->bbrl-gymnasium>=0.3.5->bbrl_utils) (8.1.5)\n",
      "Requirement already satisfied: psygnal>=0.8.1 in c:\\users\\amine\\miniconda3\\envs\\mapsi\\lib\\site-packages (from anywidget>=0.2.0->ipyreact->mazemdp>=1.2.0->bbrl-gymnasium>=0.3.5->bbrl_utils) (0.11.1)\n",
      "Requirement already satisfied: comm>=0.1.3 in c:\\users\\amine\\miniconda3\\envs\\mapsi\\lib\\site-packages (from ipywidgets>=7.0.0->ipyreact->mazemdp>=1.2.0->bbrl-gymnasium>=0.3.5->bbrl_utils) (0.2.1)\n",
      "Requirement already satisfied: ipython>=6.1.0 in c:\\users\\amine\\miniconda3\\envs\\mapsi\\lib\\site-packages (from ipywidgets>=7.0.0->ipyreact->mazemdp>=1.2.0->bbrl-gymnasium>=0.3.5->bbrl_utils) (8.27.0)\n",
      "Requirement already satisfied: traitlets>=4.3.1 in c:\\users\\amine\\miniconda3\\envs\\mapsi\\lib\\site-packages (from ipywidgets>=7.0.0->ipyreact->mazemdp>=1.2.0->bbrl-gymnasium>=0.3.5->bbrl_utils) (5.14.3)\n",
      "Requirement already satisfied: widgetsnbextension~=4.0.12 in c:\\users\\amine\\miniconda3\\envs\\mapsi\\lib\\site-packages (from ipywidgets>=7.0.0->ipyreact->mazemdp>=1.2.0->bbrl-gymnasium>=0.3.5->bbrl_utils) (4.0.13)\n",
      "Requirement already satisfied: jupyterlab-widgets~=3.0.12 in c:\\users\\amine\\miniconda3\\envs\\mapsi\\lib\\site-packages (from ipywidgets>=7.0.0->ipyreact->mazemdp>=1.2.0->bbrl-gymnasium>=0.3.5->bbrl_utils) (3.0.13)\n",
      "Requirement already satisfied: jedi>=0.16 in c:\\users\\amine\\miniconda3\\envs\\mapsi\\lib\\site-packages (from ipython>=6.1.0->ipywidgets>=7.0.0->ipyreact->mazemdp>=1.2.0->bbrl-gymnasium>=0.3.5->bbrl_utils) (0.19.1)\n",
      "Requirement already satisfied: matplotlib-inline in c:\\users\\amine\\miniconda3\\envs\\mapsi\\lib\\site-packages (from ipython>=6.1.0->ipywidgets>=7.0.0->ipyreact->mazemdp>=1.2.0->bbrl-gymnasium>=0.3.5->bbrl_utils) (0.1.6)\n",
      "Requirement already satisfied: prompt-toolkit<3.1.0,>=3.0.41 in c:\\users\\amine\\miniconda3\\envs\\mapsi\\lib\\site-packages (from ipython>=6.1.0->ipywidgets>=7.0.0->ipyreact->mazemdp>=1.2.0->bbrl-gymnasium>=0.3.5->bbrl_utils) (3.0.43)\n",
      "Requirement already satisfied: pygments>=2.4.0 in c:\\users\\amine\\miniconda3\\envs\\mapsi\\lib\\site-packages (from ipython>=6.1.0->ipywidgets>=7.0.0->ipyreact->mazemdp>=1.2.0->bbrl-gymnasium>=0.3.5->bbrl_utils) (2.15.1)\n",
      "Requirement already satisfied: stack-data in c:\\users\\amine\\miniconda3\\envs\\mapsi\\lib\\site-packages (from ipython>=6.1.0->ipywidgets>=7.0.0->ipyreact->mazemdp>=1.2.0->bbrl-gymnasium>=0.3.5->bbrl_utils) (0.2.0)\n",
      "Requirement already satisfied: parso<0.9.0,>=0.8.3 in c:\\users\\amine\\miniconda3\\envs\\mapsi\\lib\\site-packages (from jedi>=0.16->ipython>=6.1.0->ipywidgets>=7.0.0->ipyreact->mazemdp>=1.2.0->bbrl-gymnasium>=0.3.5->bbrl_utils) (0.8.3)\n",
      "Requirement already satisfied: wcwidth in c:\\users\\amine\\miniconda3\\envs\\mapsi\\lib\\site-packages (from prompt-toolkit<3.1.0,>=3.0.41->ipython>=6.1.0->ipywidgets>=7.0.0->ipyreact->mazemdp>=1.2.0->bbrl-gymnasium>=0.3.5->bbrl_utils) (0.2.5)\n",
      "Requirement already satisfied: executing in c:\\users\\amine\\miniconda3\\envs\\mapsi\\lib\\site-packages (from stack-data->ipython>=6.1.0->ipywidgets>=7.0.0->ipyreact->mazemdp>=1.2.0->bbrl-gymnasium>=0.3.5->bbrl_utils) (0.8.3)\n",
      "Requirement already satisfied: asttokens in c:\\users\\amine\\miniconda3\\envs\\mapsi\\lib\\site-packages (from stack-data->ipython>=6.1.0->ipywidgets>=7.0.0->ipyreact->mazemdp>=1.2.0->bbrl-gymnasium>=0.3.5->bbrl_utils) (2.0.5)\n",
      "Requirement already satisfied: pure-eval in c:\\users\\amine\\miniconda3\\envs\\mapsi\\lib\\site-packages (from stack-data->ipython>=6.1.0->ipywidgets>=7.0.0->ipyreact->mazemdp>=1.2.0->bbrl-gymnasium>=0.3.5->bbrl_utils) (0.2.2)\n"
     ]
    }
   ],
   "source": [
    "try:\n",
    "    from easypip import easyimport, easyinstall, is_notebook\n",
    "except ModuleNotFoundError:\n",
    "    !pip install --user easypip\n",
    "    # Automatically restart the kernel after installation\n",
    "    import IPython\n",
    "    IPython.Application.instance().kernel.do_shutdown(True) \n",
    "\n",
    "from easypip import easyimport, easyinstall, is_notebook\n",
    "\n",
    "easyinstall(\"bbrl>=0.2.2\")\n",
    "# easyinstall(\"bbrl_gymnasium>=0.3.5\")\n",
    "easyinstall(\"tensorboard\")\n",
    "easyinstall(\"moviepy\")\n",
    "\n",
    "import sys\n",
    "import os\n",
    "import numpy as np\n",
    "from pathlib import Path\n",
    "from typing import List, Tuple\n",
    "\n",
    "import matplotlib.pyplot as plt\n",
    "import moviepy.editor\n",
    "print(\"moviepy fonctionne!\")\n",
    "\n",
    "from moviepy.editor import ipython_display as video_display\n",
    "\n",
    "if not is_notebook():\n",
    "    print(\"Not displaying video (hidden since not in a notebook)\", file=sys.stderr)\n",
    "    def video_display(*args, **kwargs):\n",
    "        pass\n",
    "    def display(*args, **kwargs):\n",
    "        print(*args, **kwargs) \n",
    "\n",
    "testing_mode = os.environ.get(\"TESTING_MODE\", None) == \"ON\"\n",
    "\n",
    "import gymnasium as gym\n",
    "\n",
    "! pip install swig\n",
    "! pip install box2d-py\n",
    "! pip install bbrl_utils\n",
    "easyimport(\"bbrl_utils\").setup(maze_mdp=True)\n",
    "from bbrl_gymnasium.envs.maze_mdp import MazeMDPEnv\n",
    "from mazemdp.mdp import Mdp\n",
    "from mazemdp.toolbox import egreedy, egreedy_loc, sample_categorical, softmax\n",
    "from mazemdp import random_policy"
   ]
  },
  {
   "cell_type": "markdown",
   "id": "6b4355d1",
   "metadata": {},
   "source": [
    "# Agents and MDPs\n",
    "\n",
    "A reinforcement learning agent interacts with an environment represented as a\n",
    "Markov Decision Process (MDP). It is defined by a tuple $(S, A, P, r, \\gamma)$\n",
    "where $S$ is the state space, $A$ is the action space, $P(state_t, action_t,\n",
    "state_{t+1})$ is the transition function, $r(state_t, action_t)$ is the reward\n",
    "function and $\\gamma \\in [0, 1]$ is the discount factor.\n",
    "\n",
    "In what follows we import code to create an MDP corresponding to a random maze\n",
    "(see https://github.com/osigaud/SimpleMazeMDP for documentation)."
   ]
  },
  {
   "cell_type": "code",
   "execution_count": 3,
   "id": "dc4e9fa3",
   "metadata": {},
   "outputs": [
    {
     "data": {
      "text/html": [
       "<style>table.maze {\n",
       "    border-collapse: collapse;\n",
       "}\n",
       "\n",
       "td {\n",
       "    text-align: center;\n",
       "}\n",
       "\n",
       "table.maze td.cell {\n",
       "    position: relative;\n",
       "    border: 1px solid black;\n",
       "}\n",
       "\n",
       "table.maze td.cell div.agent {\n",
       "    position: absolute;\n",
       "    left: 25%;\n",
       "    top: 25%;;\n",
       "    width: 50%;\n",
       "    height: 50%;\n",
       "    border-radius: 100%;\n",
       "    background:rgba(69, 100, 186, 0.5);\n",
       "}\n",
       "\n",
       "\n",
       "td.wall {\n",
       "    background: black;\n",
       "}\n",
       "\n",
       "td.terminal {\n",
       "    background: rgb(246, 170, 246);\n",
       "}\n",
       "\n",
       "table.maze table td {\n",
       "    width: .5rem;\n",
       "    height: .5rem;\n",
       "}\n",
       "\n",
       "\n",
       "\n",
       "table.maze table td.arrow {\n",
       "    color: transparent;\n",
       "    font-weight: bold;\n",
       "}\n",
       "\n",
       "table.maze table td.value {\n",
       "    position: relative;\n",
       "    width: 2rem;\n",
       "    height: 2rem;\n",
       "}\n",
       "\n",
       "</style>"
      ],
      "text/plain": [
       "<IPython.core.display.HTML object>"
      ]
     },
     "metadata": {},
     "output_type": "display_data"
    },
    {
     "data": {
      "application/vnd.jupyter.widget-view+json": {
       "model_id": "ec970fdd87ab40adb83e2210199bf3f8",
       "version_major": 2,
       "version_minor": 0
      },
      "text/plain": [
       "VBox(children=(MazeWidget(cells=array([[-1,  3, -1, 11, 16],\n",
       "       [ 0,  4,  8, 12, 17],\n",
       "       [ 1,  5,  9, …"
      ]
     },
     "metadata": {},
     "output_type": "display_data"
    }
   ],
   "source": [
    "env = gym.make(\n",
    "    \"MazeMDP-v0\",\n",
    "    kwargs={\"width\": 5, \"height\": 5, \"ratio\": 0.2},\n",
    "    render_mode=\"human\",\n",
    ")\n",
    "env = env.unwrapped\n",
    "env.reset()\n",
    "\n",
    "# in dynamic programming, there is no agent moving in the environment\n",
    "env.set_no_agent()\n",
    "env.init_draw(\"The maze\")"
   ]
  },
  {
   "cell_type": "markdown",
   "id": "536ccda8",
   "metadata": {},
   "source": [
    "Dynamic programming\n",
    "\n",
    "The goal of an RL agent is to find the optimal behaviour, defined by a policy\n",
    "$\\pi$ that assigns an action (or distribution over actions) to each state so\n",
    "as to maximize the agent's total expected reward. In order to estimate how\n",
    "good a state is, either a state value function $V(x)$ or a state-action value\n",
    "function $Q(x,u)$ is used.\n",
    "\n",
    "Dynamic programming algorithms are used for planning, they require a full\n",
    "knowledge of the MDP from the agent (in contrast to \"true\" RL where the agent\n",
    "does not know the transition and reward functions). They find the optimal\n",
    "policy by computing a value function $V$ or an action-value function $Q$ over\n",
    "the state space or state-action space of the given MDP. **Value iteration**\n",
    "and **policy iteration** are two standard dynamic programming algorithms. You\n",
    "should study both of them using both $V$ and $Q$, as these algorithms contain\n",
    "the basic building blocks for most RL algorithms.\n",
    "\n",
    "# Value Iteration\n",
    "\n",
    "## Value Iteration with the V function\n",
    "\n",
    "When using the $V$ function, **value iteration** aims at finding the optimal\n",
    "values $V^*$ based on the Bellman Optimality Equation: $$V^*(s) = \\max_a\n",
    "\\big[r(s,a) + \\gamma \\sum_{y \\in S} P(s,a,y)V^*(y) \\big],$$ where:\n",
    "\n",
    "*   $r(s, a)$ is the reward obtained from taking action $a$ in state $s$,\n",
    "*   $P(s, a, y)$ is the probability of reaching state $y$ when taking action\n",
    "    $a$ in state $s$,\n",
    "*   $\\gamma \\in [0,1]$ is a discount factor defining the relative importance\n",
    "    of long term rewards over short term ones (the closer to 0, the more the\n",
    "    agent focuses on immediate rewards).\n",
    "\n",
    "In practice, we start with an initial value function $V^0$ (for instance, the\n",
    "values of all states are 0), and then we iterate for all states $s$\n",
    "$$V^{i+1}(s) = \\max_a \\big[ r(s,a) + \\gamma \\sum_{y \\in S} P(s,a,y)V^i(y)\n",
    "\\big],$$\n",
    "\n",
    "until the values converge, that is $\\forall s, V^{i+1}(s) \\approx V^i(s)$. It\n",
    "is shown that at convergence, $\\forall s, V^i(s)= V^*(s)$.\n",
    "\n",
    "To visualize the policy obtained from **value iteration**, we need to first\n",
    "define the `get_policy_from_V()` function"
   ]
  },
  {
   "cell_type": "code",
   "execution_count": 4,
   "id": "1912057d",
   "metadata": {
    "lines_to_next_cell": 2
   },
   "outputs": [],
   "source": [
    "def get_policy_from_v(mdp: MazeMDPEnv, v: np.ndarray) -> np.ndarray:\n",
    "    \"\"\"Outputs a policy given the state values\"\"\"\n",
    "\n",
    "    # Sets initial state values are set to 0\n",
    "    policy = np.zeros(mdp.nb_states)  \n",
    "\n",
    "    # Loop over MDP states\n",
    "    for x in range(mdp.nb_states):\n",
    "        if x in mdp.terminal_states:\n",
    "            # Takes the reward associated with the terminal state\n",
    "            policy[x] = np.argmax(mdp.r[x, :])\n",
    "        else:\n",
    "            # Compute the value V(x) for state x\n",
    "            v_temp = []\n",
    "            \n",
    "            # Loop over actions\n",
    "            for u in range(mdp.action_space.n):\n",
    "                # Process sum of the values of the neighbouring states\n",
    "                summ = 0\n",
    "                for y in range(mdp.nb_states):\n",
    "                    summ = summ + mdp.P[x, u, y] * v[y]\n",
    "                v_temp.append(mdp.r[x, u] + mdp.gamma * summ)\n",
    "            policy[x] = np.argmax(v_temp)\n",
    "    return policy"
   ]
  },
  {
   "cell_type": "markdown",
   "id": "b495ef76",
   "metadata": {},
   "source": [
    "The `value_iteration_v(mdp)` function below provides the code of **value\n",
    "iteration** using the $V$ function. It is given as an example from which you\n",
    "can derive other instances of dynamic programming algorithms. Look at it more\n",
    "closely, this will help for later questions:\n",
    "\n",
    "* you can ignore the `mdp.new_render()` and `mdp.render(...)` functions which\n",
    "  are here to provide the visualization of the iterations.\n",
    "* find in the code the loop over states, the main loop that performs these\n",
    "  updates until the values don't change significantly anymore, the main update\n",
    "  equation. Found them? OK, you can continue..."
   ]
  },
  {
   "cell_type": "code",
   "execution_count": 6,
   "id": "294822ce",
   "metadata": {},
   "outputs": [],
   "source": [
    "def value_iteration_v(\n",
    "    mdp: MazeMDPEnv, render: bool = True\n",
    ") -> Tuple[np.ndarray, List[float]]:\n",
    "    # Value Iteration using the state value v\n",
    "    v = np.zeros(mdp.nb_states)  # initial state values are set to 0\n",
    "    v_list = []\n",
    "    stop = False\n",
    "\n",
    "    mdp.init_draw(\"Value iteration V\")\n",
    "\n",
    "    mdp.draw_v(v)\n",
    "\n",
    "    while not stop:\n",
    "        v_old = v.copy()\n",
    "        mdp.draw_v(v)\n",
    "\n",
    "        for x in range(mdp.nb_states):  # for each state x\n",
    "            # Compute the value of the state x for each action u of the MDP action space\n",
    "            if x in mdp.terminal_states:\n",
    "                v[x] = np.max(mdp.r[x, :])\n",
    "            else:\n",
    "                v_temp = []\n",
    "                for u in range(mdp.action_space.n):\n",
    "                    # Process sum of the values of the neighbouring states\n",
    "                    summ = 0\n",
    "                    for y in range(mdp.nb_states):\n",
    "                        summ = summ + mdp.P[x, u, y] * v_old[y]\n",
    "                    v_temp.append(mdp.r[x, u] + mdp.gamma * summ)\n",
    "\n",
    "                # Select the highest state value among those computed\n",
    "                v[x] = np.max(v_temp)\n",
    "\n",
    "        # Test if convergence has been reached\n",
    "        if (np.linalg.norm(v - v_old)) < 0.01:\n",
    "            stop = True\n",
    "        v_list.append(np.linalg.norm(v))\n",
    "\n",
    "    policy = get_policy_from_v(mdp, v)\n",
    "    mdp.draw_v_pi(v, policy)\n",
    "    return v, v_list"
   ]
  },
  {
   "cell_type": "markdown",
   "id": "289ff447",
   "metadata": {},
   "source": [
    "Let us run it on the previously defined MDP"
   ]
  },
  {
   "cell_type": "code",
   "execution_count": 7,
   "id": "1a91d537",
   "metadata": {
    "lines_to_next_cell": 2
   },
   "outputs": [
    {
     "data": {
      "application/vnd.jupyter.widget-view+json": {
       "model_id": "881da7918be748fc98e6e6cead56bae8",
       "version_major": 2,
       "version_minor": 0
      },
      "text/plain": [
       "VBox(children=(MazeWidget(cells=array([[-1,  3, -1, 11, 16],\n",
       "       [ 0,  4,  8, 12, 17],\n",
       "       [ 1,  5,  9, …"
      ]
     },
     "metadata": {},
     "output_type": "display_data"
    }
   ],
   "source": [
    "v, v_list = value_iteration_v(env, render=True)"
   ]
  },
  {
   "cell_type": "markdown",
   "id": "7d50b096",
   "metadata": {},
   "source": [
    "### Value iteration with the $Q$ function ###\n",
    "\n",
    "The state-action value function $Q^{\\pi}(s,a)$ defines the value of being in\n",
    "state $s$, taking action $a$ then following policy $\\pi$. The Bellman\n",
    "Optimality Equation for $Q^*$ is $$ Q^*(s,a) =  r(s,a) + \\gamma \\sum_{y}\n",
    "P(s,a,y) \\max_{a'}Q^*(y,a'). $$\n",
    "\n",
    "**Question:** By taking inspiration from the `value_iteration_v(mdp)` function\n",
    "above, fill the blank (given with '\\#Q[x,u]=...') in the code of\n",
    "`value_iteration_q(mdp)`."
   ]
  },
  {
   "cell_type": "code",
   "execution_count": 8,
   "id": "8594cce1",
   "metadata": {},
   "outputs": [],
   "source": [
    "# ------------------ Value Iteration with the Q function ---------------------#\n",
    "# Given a MDP, this algorithm computes the optimal action value function Q\n",
    "# It then derives the optimal policy based on this function\n",
    "\n",
    "\n",
    "def value_iteration_q(\n",
    "    mdp: MazeMDPEnv, render: bool = True\n",
    ") -> Tuple[np.ndarray, List[float]]:\n",
    "    q = np.zeros(\n",
    "        (mdp.nb_states, mdp.action_space.n)\n",
    "    )  # initial action values are set to 0\n",
    "    q_list = []\n",
    "    stop = False\n",
    "\n",
    "    mdp.init_draw(\"Value iteration Q\")\n",
    "\n",
    "    mdp.draw_v(q)\n",
    "\n",
    "    while not stop:\n",
    "        qold = q.copy()\n",
    "\n",
    "        mdp.draw_v(q)\n",
    "\n",
    "        for x in range(mdp.nb_states):\n",
    "            for u in range(mdp.action_space.n):\n",
    "                if x in mdp.terminal_states:\n",
    "                    q[x, u] = mdp.r[x, u]\n",
    "                else:\n",
    "                    summ = 0\n",
    "                    for y in range(mdp.nb_states):\n",
    "                        summ += mdp.P[x, u, y] * np.max(qold[y, :])\n",
    "\n",
    "                    # Compléter d'après la formule ci-dessus\n",
    "\n",
    "                    q[x, u] = mdp.r[x, u] + mdp.gamma * summ\n",
    "                    \n",
    "\n",
    "\n",
    "        if (np.linalg.norm(q - qold)) <= 0.01:\n",
    "            stop = True\n",
    "        q_list.append(np.linalg.norm(q))\n",
    "\n",
    "    mdp.draw_v(q)\n",
    "\n",
    "    return q, q_list"
   ]
  },
  {
   "cell_type": "markdown",
   "id": "91896bde",
   "metadata": {},
   "source": [
    "Once you are done, run it."
   ]
  },
  {
   "cell_type": "code",
   "execution_count": 9,
   "id": "8ce41dc5",
   "metadata": {
    "lines_to_next_cell": 2
   },
   "outputs": [
    {
     "data": {
      "application/vnd.jupyter.widget-view+json": {
       "model_id": "85f8be6ec48240969d757396ec7c6460",
       "version_major": 2,
       "version_minor": 0
      },
      "text/plain": [
       "VBox(children=(MazeWidget(cells=array([[-1,  3, -1, 11, 16],\n",
       "       [ 0,  4,  8, 12, 17],\n",
       "       [ 1,  5,  9, …"
      ]
     },
     "metadata": {},
     "output_type": "display_data"
    }
   ],
   "source": [
    "q, q_list = value_iteration_q(env, render=True)"
   ]
  },
  {
   "cell_type": "markdown",
   "id": "4ac3a4a4",
   "metadata": {},
   "source": [
    "## Policy Iteration ##\n",
    "\n",
    "The **policy iteration** algorithm is more complicated than **value\n",
    "iteration**. Given a MDP and a policy $\\pi$, **policy iteration** iterates the\n",
    "following steps:\n",
    "\n",
    "*   Evaluate policy $\\pi$: compute $V$ or $Q$ based on the policy $\\pi$;\n",
    "*   Improve policy $\\pi$: compute a better policy based on $V$ or $Q$.\n",
    "\n",
    "This process is repeated until convergence, i.e. when the policy cannot be\n",
    "improved anymore.\n",
    "\n",
    "### Policy iteration with the $V$ function ###\n",
    "\n",
    "When using $V$, $V^{\\pi}(s)$ is the expected return when starting from state\n",
    "$s$ and following policy $\\pi$. It is processed based on the Bellman\n",
    "Optimality Equation for deterministic policies:\n",
    "\n",
    "$$V^\\pi(s) = r(s, \\pi(s)) + \\gamma \\sum_{y \\in S}P(s, \\pi(s), y)V^\\pi(y),$$\n",
    "\n",
    "where:\n",
    "\n",
    "*   $\\pi$ is a deterministic policy, meaning that in a state $s$, the agent\n",
    "    always selects the same action,\n",
    "*   $V^\\pi(y)$ is the value of the state $y$ under policy $\\pi$.\n",
    "\n",
    "Thus, given a policy $\\pi$, one must first compute its value function\n",
    "$V^\\pi(s)$ for all states $s$ iterating the Bellman Optimality Equation until\n",
    "convergence, that is using **value iteration**. Then, one must determine if\n",
    "policy $\\pi$ can be improved based on $V$. For that, in each state $s$, one\n",
    "can compute the Q-value $Q(s,a)$ of applying action $a$ and then following\n",
    "policy $\\pi$ based on the just computed $V^\\pi$, and replace the action\n",
    "$\\pi(s)$ with $\\arg\\max_a Q(s,a)$.\n",
    "\n",
    "In order to facilitate the coding of **policy iteration** algorithms, we first\n",
    "define a set of useful functions.\n",
    "\n",
    "The `improve_policy_from_v(mdp, v, policy)` function is very similar to the\n",
    "`get_policy_from_v(v)` function which was given above. The main difference is\n",
    "that it takes a policy as argument and improves this policy when possible,\n",
    "thus is more in the spirit of the `policy improvement` step of **policy\n",
    "iteration**. But both functions can be used interchangeably.\n",
    "\n",
    "The functions `evaluate_one_step_v(mdp, v, policy)`, where `mdp` is a given\n",
    "MDP, `v` is some value function in this MDP and `policy` is some policy and\n",
    "the function `evaluate_v(mdp, policy)` are also given. These functions are\n",
    "used to build the value function $V^\\pi$ corresponding to policy $\\pi$."
   ]
  },
  {
   "cell_type": "code",
   "execution_count": 10,
   "id": "f1f19b1b",
   "metadata": {
    "lines_to_next_cell": 2
   },
   "outputs": [],
   "source": [
    "def improve_policy_from_v(\n",
    "    mdp: MazeMDPEnv, v: np.ndarray, policy: np.ndarray\n",
    ") -> np.ndarray:\n",
    "    # Improves a policy given the state values\n",
    "    for x in range(mdp.nb_states):  # for each state x\n",
    "        # Compute the value of the state x for each action u of the MDP action space\n",
    "        if x in mdp.terminal_states:\n",
    "            policy[x] = np.argmax(mdp.r[x, :])\n",
    "        else:\n",
    "            v_temp = np.zeros(mdp.action_space.n)\n",
    "            for u in range(mdp.action_space.n):\n",
    "                # Process sum of the values of the neighbouring states\n",
    "                summ = 0\n",
    "                for y in range(mdp.nb_states):\n",
    "                    summ = summ + mdp.P[x, u, y] * v[y]\n",
    "                v_temp[u] = mdp.r[x, u] + mdp.gamma * summ\n",
    "\n",
    "            for u in range(mdp.action_space.n):\n",
    "                if v_temp[u] > v_temp[policy[x]]:\n",
    "                    policy[x] = u\n",
    "    return policy"
   ]
  },
  {
   "cell_type": "code",
   "execution_count": 11,
   "id": "40082d72",
   "metadata": {
    "lines_to_next_cell": 2
   },
   "outputs": [],
   "source": [
    "def evaluate_one_step_v(\n",
    "    mdp: MazeMDPEnv, v: np.ndarray, policy: np.ndarray\n",
    ") -> np.ndarray:\n",
    "    # Outputs the state value function after one step of policy evaluation\n",
    "    # Corresponds to one application of the Bellman Operator\n",
    "    v_new = np.zeros(mdp.nb_states)  # initial state values are set to 0\n",
    "    for x in range(mdp.nb_states):  # for each state x\n",
    "        # Compute the value of the state x for each action u of the MDP action space\n",
    "        if x in mdp.terminal_states:\n",
    "            v_new[x] = mdp.r[x, policy[x]]\n",
    "        else:\n",
    "            # Process sum of the values of the neighbouring states\n",
    "            summ = 0\n",
    "            for y in range(mdp.nb_states):\n",
    "                summ = summ + mdp.P[x, policy[x], y] * v[y]\n",
    "            v_new[x] = mdp.r[x, policy[x]] + mdp.gamma * summ\n",
    "    return v_new"
   ]
  },
  {
   "cell_type": "code",
   "execution_count": 12,
   "id": "ddc532bf",
   "metadata": {
    "lines_to_next_cell": 2
   },
   "outputs": [],
   "source": [
    "def evaluate_v(mdp: MazeMDPEnv, policy: np.ndarray) -> np.ndarray:\n",
    "    # Outputs the state value function of a policy\n",
    "    v = np.zeros(mdp.nb_states)  # initial state values are set to 0\n",
    "    stop = False\n",
    "    while not stop:\n",
    "        vold = v.copy()\n",
    "        v = evaluate_one_step_v(mdp, vold, policy)\n",
    "\n",
    "        # Test if convergence has been reached\n",
    "        if (np.linalg.norm(v - vold)) < 0.01:\n",
    "            stop = True\n",
    "    return v"
   ]
  },
  {
   "cell_type": "markdown",
   "id": "a2bbfd5a",
   "metadata": {
    "lines_to_next_cell": 2
   },
   "source": [
    "To perform **policy iteration** we also need an initial random policy."
   ]
  },
  {
   "cell_type": "code",
   "execution_count": 13,
   "id": "3874e776",
   "metadata": {},
   "outputs": [],
   "source": [
    "from mazemdp import random_policy"
   ]
  },
  {
   "cell_type": "markdown",
   "id": "fe994084",
   "metadata": {},
   "source": [
    "**Question:** By using the above functions, fill the code of the `policy_iteration_v(mdp)` function below."
   ]
  },
  {
   "cell_type": "code",
   "execution_count": 14,
   "id": "da751c6c",
   "metadata": {},
   "outputs": [],
   "source": [
    "# ---------------- Policy Iteration with the V function -----------------#\n",
    "# Given an MDP, this algorithm simultaneously computes\n",
    "# the optimal state value function V and the optimal policy\n",
    "\n",
    "\n",
    "def policy_iteration_v(\n",
    "    mdp: MazeMDPEnv, render: bool = True\n",
    ") -> Tuple[np.ndarray, List[float]]:\n",
    "    # policy iteration over the v function\n",
    "    v = np.zeros(mdp.nb_states)  # initial state values are set to 0\n",
    "    v_list = []\n",
    "    policy = random_policy(mdp)\n",
    "\n",
    "    stop = False\n",
    "\n",
    "    mdp.init_draw(\"Policy Iteration (V)\")\n",
    "\n",
    "    while not stop:\n",
    "        vold = v.copy()\n",
    "\n",
    "        mdp.draw_v(v, title=\"Policy iteration Q\")\n",
    "\n",
    "        # Step 1 : Policy Evaluation\n",
    "        v = evaluate_v(mdp, policy)  # Calcul de V^pi\n",
    "\n",
    "        # Step 2 : Policy Improvement\n",
    "        policy = improve_policy_from_v(mdp, v, policy)  # Mise à jour de π\n",
    "\n",
    "\n",
    "        # Check convergence\n",
    "        if (np.linalg.norm(v - vold)) < 0.01:\n",
    "            stop = True\n",
    "        v_list.append(np.linalg.norm(v))\n",
    "\n",
    "    mdp.draw_v_pi(v, get_policy_from_v(mdp, v))\n",
    "\n",
    "    return v, v_list"
   ]
  },
  {
   "cell_type": "markdown",
   "id": "d03ad8a2",
   "metadata": {},
   "source": [
    "And finally run it."
   ]
  },
  {
   "cell_type": "code",
   "execution_count": 15,
   "id": "b40b3d24",
   "metadata": {
    "lines_to_next_cell": 2
   },
   "outputs": [
    {
     "data": {
      "application/vnd.jupyter.widget-view+json": {
       "model_id": "5551a7a71cf34b22af067585b953046d",
       "version_major": 2,
       "version_minor": 0
      },
      "text/plain": [
       "VBox(children=(MazeWidget(cells=array([[-1,  3, -1, 11, 16],\n",
       "       [ 0,  4,  8, 12, 17],\n",
       "       [ 1,  5,  9, …"
      ]
     },
     "metadata": {},
     "output_type": "display_data"
    }
   ],
   "source": [
    "v, v_list = policy_iteration_v(env, render=True)"
   ]
  },
  {
   "cell_type": "markdown",
   "id": "ff52b4ad",
   "metadata": {},
   "source": [
    "### Policy iteration with the $Q$ function ###\n",
    "\n",
    "The **policy iteration** algorithm with the $Q$ function is the same as with\n",
    "the $V$ function, but the policy improvement step is more straightforward.\n",
    "\n",
    "When using $Q$, the Bellman Optimality Equation with deterministic policy\n",
    "$\\pi$ for $Q$ becomes: $$Q^{\\pi}(s,a) = r(s,a) + \\gamma \\sum_{y \\in\n",
    "S}P(s,a,y)Q^{\\pi}(y,\\pi(y)).$$\n",
    "\n",
    "The policy can then be updated as follows: $$\\pi^{(t+1)}(s) =\n",
    "\\arg\\max_aQ^{\\pi^{(t)}}(s,a).$$\n",
    "\n",
    "First, we need to determine a policy from the $Q$ function.\n",
    "\n",
    "**Question:**  fill the `get_policy_from_q(q)` function, where $q$ is the\n",
    "state-action value function."
   ]
  },
  {
   "cell_type": "code",
   "execution_count": 30,
   "id": "d50df95f",
   "metadata": {
    "lines_to_next_cell": 2
   },
   "outputs": [],
   "source": [
    "def get_policy_from_q(q: np.ndarray) -> np.ndarray:\n",
    "    # Outputs a policy given the action values\n",
    "\n",
    "    return np.argmax(q, axis=1)\n"
   ]
  },
  {
   "cell_type": "markdown",
   "id": "2fe4ac88",
   "metadata": {},
   "source": [
    "**Question:** By drawing inspiration on the functions give with the $v$\n",
    "function, fill the code of the `evaluate_one_step_q(mdp, q, policy)` function\n",
    "below, where $q$ is some action value function, and the `evaluate_q(mdp,\n",
    "policy)` function."
   ]
  },
  {
   "cell_type": "code",
   "execution_count": 31,
   "id": "200d1213",
   "metadata": {
    "lines_to_next_cell": 2
   },
   "outputs": [],
   "source": [
    "def evaluate_one_step_q(\n",
    "    mdp: MazeMDPEnv, q: np.ndarray, policy: np.ndarray\n",
    ") -> np.ndarray:\n",
    "    # Outputs the state value function after one step of policy evaluation\n",
    "    qnew = np.zeros(\n",
    "        (mdp.nb_states, mdp.action_space.n)\n",
    "    )  # initial action values are set to 0\n",
    "    for x in range(mdp.nb_states):  # for each state x\n",
    "        # Compute the value of the state x for each action u of the MDP action space\n",
    "        for u in range(mdp.action_space.n):\n",
    "            if x in mdp.terminal_states:\n",
    "                qnew[x, u] = mdp.r[x, u]\n",
    "            else:\n",
    "                # Process sum of the values of the neighbouring states\n",
    "                summ = 0\n",
    "                for y in range(mdp.nb_states):\n",
    "\n",
    "                    summ += mdp.P[x, u, y] * q[y, policy[y]]\n",
    "\n",
    "                qnew[x, u] = mdp.r[x, u] + mdp.gamma * summ\n",
    "\n",
    "    return qnew"
   ]
  },
  {
   "cell_type": "code",
   "execution_count": 32,
   "id": "12a29c8b",
   "metadata": {
    "lines_to_next_cell": 2
   },
   "outputs": [],
   "source": [
    "def evaluate_q(mdp: MazeMDPEnv, policy: np.ndarray) -> np.ndarray:\n",
    "    # Outputs the state value function of a policy\n",
    "    q = np.zeros(\n",
    "        (mdp.nb_states, mdp.action_space.n)\n",
    "    )  # initial action values are set to 0\n",
    "    stop = False\n",
    "    while not stop:\n",
    "        qold = q.copy()\n",
    "\n",
    "        # To be completed...\n",
    "\n",
    "        q = evaluate_one_step_q(mdp, qold, policy)\n",
    "\n",
    "\n",
    "        # Test if convergence has been reached\n",
    "        if (np.linalg.norm(q - qold)) < 0.01:\n",
    "            stop = True\n",
    "    return q"
   ]
  },
  {
   "cell_type": "markdown",
   "id": "5ad2c00b",
   "metadata": {},
   "source": [
    "**Question:** By using the above functions, fill the code of the `policy_iteration_q(mdp)` function below."
   ]
  },
  {
   "cell_type": "code",
   "execution_count": 33,
   "id": "c23e7832",
   "metadata": {},
   "outputs": [],
   "source": [
    "# ---------------- Policy Iteration with the Q function -----------------#\n",
    "# Given a MDP, this algorithm simultaneously computes\n",
    "# the optimal action value function Q and the optimal policy\n",
    "\n",
    "\n",
    "def policy_iteration_q(\n",
    "    mdp: MazeMDPEnv, render: bool = True\n",
    ") -> Tuple[np.ndarray, List[float]]:\n",
    "    \"\"\"policy iteration over the q function.\"\"\"\n",
    "    q = np.zeros(\n",
    "        (mdp.nb_states, mdp.action_space.n)\n",
    "    )  # initial action values are set to 0\n",
    "    q_list = []\n",
    "    policy = random_policy(mdp)\n",
    "\n",
    "    stop = False\n",
    "\n",
    "    mdp.init_draw(\"Policy iteration Q\")\n",
    "\n",
    "    while not stop:\n",
    "        qold = q.copy()\n",
    "        mdp.draw_v(q)\n",
    "\n",
    "        # Step 1 : Policy evaluation\n",
    "\n",
    "        q = evaluate_q(mdp, policy)\n",
    "\n",
    "\n",
    "        # Step 2 : Policy improvement\n",
    "\n",
    "        policy = get_policy_from_q(q)\n",
    "\n",
    "\n",
    "        # Check convergence\n",
    "        if (np.linalg.norm(q - qold)) <= 0.01:\n",
    "            stop = True\n",
    "        q_list.append(np.linalg.norm(q))\n",
    "\n",
    "    mdp.draw_v_pi(q, get_policy_from_q(q))\n",
    "    return q, q_list"
   ]
  },
  {
   "cell_type": "markdown",
   "id": "b231698a",
   "metadata": {},
   "source": [
    "Finally, run it."
   ]
  },
  {
   "cell_type": "code",
   "execution_count": 34,
   "id": "19afa90b",
   "metadata": {
    "lines_to_next_cell": 2
   },
   "outputs": [
    {
     "data": {
      "application/vnd.jupyter.widget-view+json": {
       "model_id": "9c342f15a8fa4fa4969af061538e08d3",
       "version_major": 2,
       "version_minor": 0
      },
      "text/plain": [
       "VBox(children=(MazeWidget(cells=array([[ 0,  4,  8, 11, -1],\n",
       "       [ 1,  5,  9, 12, 16],\n",
       "       [-1, -1, -1, …"
      ]
     },
     "metadata": {},
     "output_type": "display_data"
    }
   ],
   "source": [
    "q, q_list = policy_iteration_q(env, render=True)"
   ]
  },
  {
   "cell_type": "markdown",
   "id": "60427fbe",
   "metadata": {},
   "source": [
    "### Experimental comparisons\n",
    "\n",
    "We now compare the efficiency of the various dynamic programming methods using either the $V$ or the  $Q$ functions.\n",
    "\n",
    "In all your dymanic programming functions, add code to count the number of iterations and the number of elementary $V$ or $Q$ updates. Use the provided `mazemdp.Chrono` class to measure the time taken. You may generate various mazes of various sizes to figure out the influence of the maze topology.\n",
    "\n",
    "Build a table where you compare the various dymanic programming functions in terms of iterations, elementary operations and time taken.\n",
    "\n",
    "You can run the `plot_convergence_vi_pi(...)` function provided below to visualize the convergence of the various algorithms."
   ]
  },
  {
   "cell_type": "code",
   "execution_count": 35,
   "id": "002a1eaf",
   "metadata": {
    "lines_to_next_cell": 1
   },
   "outputs": [],
   "source": [
    "# ---- plot learning curves of Q-Learning and Sarsa using epsilon-greedy and softmax -----#\n",
    "\n",
    "\n",
    "def plot_convergence_vi_pi(m, render):\n",
    "    v, v_list1 = value_iteration_v(m, render)\n",
    "    q, q_list1 = value_iteration_q(m, render)\n",
    "    v, v_list2 = policy_iteration_v(m, render)\n",
    "    q, q_list2 = policy_iteration_q(m, render)\n",
    "\n",
    "    plt.plot(range(len(v_list1)), v_list1, label=\"value_iteration_v\")\n",
    "    plt.plot(range(len(q_list1)), q_list1, label=\"value_iteration_q\")\n",
    "    plt.plot(range(len(v_list2)), v_list2, label=\"policy_iteration_v\")\n",
    "    plt.plot(range(len(q_list2)), q_list2, label=\"policy_iteration_q\")\n",
    "\n",
    "    plt.xlabel(\"Number of episodes\")\n",
    "    plt.ylabel(\"Norm of V or Q value\")\n",
    "    plt.legend(loc=\"upper right\")\n",
    "    # plt.savefig(\"comparison_DP.png\")\n",
    "    plt.title(\"Comparison of convergence rates\")\n",
    "    plt.show()"
   ]
  },
  {
   "cell_type": "markdown",
   "id": "31cc2701",
   "metadata": {},
   "source": [
    "**Question:** Run the code below and visualize the results of the different algorithms"
   ]
  },
  {
   "cell_type": "code",
   "execution_count": 36,
   "id": "90837e03",
   "metadata": {},
   "outputs": [
    {
     "data": {
      "application/vnd.jupyter.widget-view+json": {
       "model_id": "ad7db60e20864292a49fb23560a04e8d",
       "version_major": 2,
       "version_minor": 0
      },
      "text/plain": [
       "VBox(children=(MazeWidget(cells=array([[ 0,  4,  8, 11, -1],\n",
       "       [ 1,  5,  9, 12, 16],\n",
       "       [-1, -1, -1, …"
      ]
     },
     "metadata": {},
     "output_type": "display_data"
    },
    {
     "data": {
      "image/png": "[encoded data removed]",
      "text/plain": [
       "<Figure size 640x480 with 1 Axes>"
      ]
     },
     "metadata": {},
     "output_type": "display_data"
    }
   ],
   "source": [
    "plot_convergence_vi_pi(env, False)"
   ]
  },
  {
   "cell_type": "code",
   "execution_count": null,
   "id": "a9839162-a201-40bd-b662-1f5bb77cdf93",
   "metadata": {},
   "outputs": [],
   "source": []
  }
 ],
 "metadata": {
  "jupytext": {
   "cell_markers": "\"\"\""
  },
  "kernelspec": {
   "display_name": "Python 3 (ipykernel)",
   "language": "python",
   "name": "python3"
  },
  "language_info": {
   "codemirror_mode": {
    "name": "ipython",
    "version": 3
   },
   "file_extension": ".py",
   "mimetype": "text/x-python",
   "name": "python",
   "nbconvert_exporter": "python",
   "pygments_lexer": "ipython3",
   "version": "3.12.5"
  }
 },
 "nbformat": 4,
 "nbformat_minor": 5
}
